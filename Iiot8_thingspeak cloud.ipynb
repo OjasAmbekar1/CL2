{
 "cells": [
  {
   "cell_type": "code",
   "execution_count": null,
   "id": "4e87f633-d93e-4367-8e42-fc5e9ba48c3e",
   "metadata": {},
   "outputs": [
    {
     "name": "stdout",
     "output_type": "stream",
     "text": [
      "temperature 23\n",
      "200 OK\n",
      "temperature 24\n",
      "200 OK\n",
      "temperature 25\n",
      "200 OK\n",
      "temperature 26\n",
      "200 OK\n",
      "temperature 27\n",
      "200 OK\n",
      "temperature 28\n",
      "200 OK\n",
      "temperature 29\n",
      "200 OK\n",
      "temperature 30\n",
      "200 OK\n",
      "temperature 31\n",
      "200 OK\n",
      "temperature 32\n",
      "200 OK\n",
      "temperature 33\n",
      "200 OK\n",
      "temperature 34\n",
      "200 OK\n",
      "temperature 35\n",
      "200 OK\n",
      "temperature 36\n",
      "200 OK\n",
      "temperature 37\n",
      "200 OK\n",
      "temperature 38\n",
      "200 OK\n",
      "temperature 39\n",
      "200 OK\n",
      "temperature 40\n",
      "200 OK\n",
      "temperature 41\n",
      "200 OK\n",
      "temperature 42\n",
      "200 OK\n",
      "temperature 43\n",
      "200 OK\n",
      "temperature 44\n",
      "200 OK\n",
      "temperature 45\n",
      "200 OK\n",
      "temperature 46\n",
      "200 OK\n"
     ]
    }
   ],
   "source": [
    "import http.client\n",
    "import urllib.parse\n",
    "import time\n",
    "\n",
    "key = 'G6QJ8P1WIP6NLT24'  # Replace with the actual ThingSpeak API key\n",
    "\n",
    "t = 22  # Start temperature\n",
    "\n",
    "while True:\n",
    "    t += 1\n",
    "    print(\"temperature\", t)\n",
    "    \n",
    "    params = urllib.parse.urlencode({'field1': t, 'key': key})\n",
    "    headers = {\"Content-type\": \"application/x-www-form-urlencoded\", \"Accept\": \"text/plain\"}\n",
    "    \n",
    "    con = http.client.HTTPConnection(\"api.thingspeak.com\")\n",
    "    con.request(\"POST\", \"/update\", params, headers)\n",
    "    \n",
    "    response = con.getresponse()\n",
    "    print(response.status, response.reason)\n",
    "    data = response.read()\n",
    "    \n",
    "    con.close()\n",
    "    \n",
    "    time.sleep(15)  # Wait for 15 seconds between updates"
   ]
  },
  {
   "cell_type": "code",
   "execution_count": null,
   "id": "9998922b-16f7-4015-8758-498b3afdcf48",
   "metadata": {},
   "outputs": [],
   "source": []
  }
 ],
 "metadata": {
  "kernelspec": {
   "display_name": "Python 3 (ipykernel)",
   "language": "python",
   "name": "python3"
  },
  "language_info": {
   "codemirror_mode": {
    "name": "ipython",
    "version": 3
   },
   "file_extension": ".py",
   "mimetype": "text/x-python",
   "name": "python",
   "nbconvert_exporter": "python",
   "pygments_lexer": "ipython3",
   "version": "3.11.7"
  }
 },
 "nbformat": 4,
 "nbformat_minor": 5
}
